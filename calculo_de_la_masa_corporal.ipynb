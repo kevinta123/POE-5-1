{
  "nbformat": 4,
  "nbformat_minor": 0,
  "metadata": {
    "colab": {
      "name": "calculo de la masa corporal.ipynb",
      "provenance": [],
      "collapsed_sections": [],
      "authorship_tag": "ABX9TyNrQCgwH1exRoIdzvPjeYDZ",
      "include_colab_link": true
    },
    "kernelspec": {
      "name": "python3",
      "display_name": "Python 3"
    },
    "language_info": {
      "name": "python"
    }
  },
  "cells": [
    {
      "cell_type": "markdown",
      "metadata": {
        "id": "view-in-github",
        "colab_type": "text"
      },
      "source": [
        "<a href=\"https://colab.research.google.com/github/kevinta123/POE-5-1/blob/main/calculo_de_la_masa_corporal.ipynb\" target=\"_parent\"><img src=\"https://colab.research.google.com/assets/colab-badge.svg\" alt=\"Open In Colab\"/></a>"
      ]
    },
    {
      "cell_type": "code",
      "execution_count": 6,
      "metadata": {
        "colab": {
          "base_uri": "https://localhost:8080/"
        },
        "id": "NWhhwhnZzcRU",
        "outputId": "694677a4-a2ff-4815-f0a2-fdcdf0abe222"
      },
      "outputs": [
        {
          "output_type": "stream",
          "name": "stdout",
          "text": [
            "24.221453287197235\n"
          ]
        }
      ],
      "source": [
        "#@title CALCULO DE INDICE DE MASA CORPORAL {run: \"auto\",vertical-output: true}\n",
        "ESTATURA =  1.70#@param {type:\"number\"}\n",
        "PESO =  70#@param {type:\"number\"}\n",
        "print((PESO)/(ESTATURA*ESTATURA))"
      ]
    }
  ]
}