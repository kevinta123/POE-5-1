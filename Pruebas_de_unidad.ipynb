{
  "nbformat": 4,
  "nbformat_minor": 0,
  "metadata": {
    "colab": {
      "name": "Pruebas de unidad",
      "provenance": [],
      "collapsed_sections": [],
      "authorship_tag": "ABX9TyNkJC3bL/pUoA5hvtkp3Y0r",
      "include_colab_link": true
    },
    "kernelspec": {
      "name": "python3",
      "display_name": "Python 3"
    },
    "language_info": {
      "name": "python"
    }
  },
  "cells": [
    {
      "cell_type": "markdown",
      "metadata": {
        "id": "view-in-github",
        "colab_type": "text"
      },
      "source": [
        "<a href=\"https://colab.research.google.com/github/kevinta123/POE-5-1/blob/main/Pruebas_de_unidad.ipynb\" target=\"_parent\"><img src=\"https://colab.research.google.com/assets/colab-badge.svg\" alt=\"Open In Colab\"/></a>"
      ]
    },
    {
      "cell_type": "code",
      "execution_count": 14,
      "metadata": {
        "id": "VVHcY2VWV7YN"
      },
      "outputs": [],
      "source": [
        "import unittest"
      ]
    },
    {
      "cell_type": "code",
      "source": [
        "# Calculadora\n",
        "class Calculator:\n",
        "    def __init__(self):\n",
        "        pass\n",
        "\n",
        "    def add(self, a, b):\n",
        "        return a + b\n",
        "\n",
        "    def sub(self, a, b):\n",
        "        return a - b\n",
        "  \n",
        "    def mul(self, a, b):\n",
        "        return a * b\n",
        "\n",
        "    def divent(self, a, b):\n",
        "        if b != 0:\n",
        "            return a / b"
      ],
      "metadata": {
        "id": "WZ-4cYl7WJWh"
      },
      "execution_count": 15,
      "outputs": []
    },
    {
      "cell_type": "code",
      "source": [
        "##Creacion prueba de unidad \n",
        "class TestCalculator(unittest.TestCase):\n",
        "  \n",
        "    def test_add(self):\n",
        "        '''Test case function for addition'''\n",
        "        self.calc = Calculator()\n",
        "        result = self.calc.add(4, 7)\n",
        "        expected = 11\n",
        "        self.assertEqual(result, expected)\n",
        "\n",
        "    def test_sub(self):\n",
        "        '''Test case function for subtraction'''\n",
        "        self.calc = Calculator()\n",
        "        result = self.calc.sub(10, 5)\n",
        "        expected = 5\n",
        "        self.assertEqual(result, expected)\n",
        "\n",
        "   \n",
        "    def test_mul(self):\n",
        "        '''Test case function for multiplication'''\n",
        "        self.calc = Calculator()\n",
        "        result = self.calc.mul(3, 7)\n",
        "        expected = 21\n",
        "        self.assertEqual(result, expected)\n",
        "\n",
        "    def test_divent(self):\n",
        "        '''Test case function for division'''\n",
        "        self.calc = Calculator()\n",
        "        result = self.calc.divent(10, 2)\n",
        "        expected = 5\n",
        "        self.assertEqual(result, expected)"
      ],
      "metadata": {
        "id": "icY9cLwRWOoB"
      },
      "execution_count": 16,
      "outputs": []
    },
    {
      "cell_type": "code",
      "source": [
        "unittest.main(argv=[''], verbosity=2, exit=False)"
      ],
      "metadata": {
        "colab": {
          "base_uri": "https://localhost:8080/"
        },
        "id": "mNZLXst3WTuI",
        "outputId": "8cef6d84-75d6-4374-9c9b-0639cc16ad17"
      },
      "execution_count": 17,
      "outputs": [
        {
          "output_type": "stream",
          "name": "stderr",
          "text": [
            "test_add (__main__.TestCalculator)\n",
            "Test case function for addition ... ok\n",
            "test_divent (__main__.TestCalculator)\n",
            "Test case function for division ... ok\n",
            "test_mul (__main__.TestCalculator)\n",
            "Test case function for multiplication ... ok\n",
            "test_sub (__main__.TestCalculator)\n",
            "Test case function for subtraction ... ok\n",
            "\n",
            "----------------------------------------------------------------------\n",
            "Ran 4 tests in 0.013s\n",
            "\n",
            "OK\n"
          ]
        },
        {
          "output_type": "execute_result",
          "data": {
            "text/plain": [
              "<unittest.main.TestProgram at 0x7ffa0ddf9f50>"
            ]
          },
          "metadata": {},
          "execution_count": 17
        }
      ]
    }
  ]
}