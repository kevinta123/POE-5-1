{
  "nbformat": 4,
  "nbformat_minor": 0,
  "metadata": {
    "colab": {
      "name": "Pruebas de unidad",
      "provenance": [],
      "include_colab_link": true
    },
    "kernelspec": {
      "name": "python3",
      "display_name": "Python 3"
    },
    "language_info": {
      "name": "python"
    }
  },
  "cells": [
    {
      "cell_type": "markdown",
      "metadata": {
        "id": "view-in-github",
        "colab_type": "text"
      },
      "source": [
        "<a href=\"https://colab.research.google.com/github/kevinta123/POE-5-1/blob/main/Pruebas_de_unidad.ipynb\" target=\"_parent\"><img src=\"https://colab.research.google.com/assets/colab-badge.svg\" alt=\"Open In Colab\"/></a>"
      ]
    },
    {
      "cell_type": "code",
      "execution_count": 1,
      "metadata": {
        "id": "Vbv4Q1WIzJGi"
      },
      "outputs": [],
      "source": [
        "import unittest"
      ]
    },
    {
      "cell_type": "code",
      "source": [
        "# Calculadora\n",
        "class Calculator:\n",
        "    def __init__(self):\n",
        "        pass\n",
        "\n",
        "    def add(self, a, b):\n",
        "        return a + b\n",
        "\n",
        "    def sub(self, a, b):\n",
        "        return a - b\n",
        "  \n",
        "    def mul(self, a, b):\n",
        "        return a * b\n",
        "\n",
        "    def div(self, a, b):\n",
        "        if b != 0:\n",
        "            return a / b-1"
      ],
      "metadata": {
        "id": "Bj2884KmzM0-"
      },
      "execution_count": null,
      "outputs": []
    },
    {
      "cell_type": "code",
      "source": [
        "##Creacion prueba de unidad \n",
        "class TestCalculator(unittest.TestCase):\n",
        "  \n",
        "    def test_add(self):\n",
        "        '''Test case function for addition'''\n",
        "        self.calc = Calculator()\n",
        "        result = self.calc.add(4, 7)\n",
        "        expected = 11\n",
        "        self.assertEqual(result, expected)\n",
        "\n",
        "    def test_sub(self):\n",
        "        '''Test case function for subtraction'''\n",
        "        self.calc = Calculator()\n",
        "        result = self.calc.sub(10, 5)\n",
        "        expected = 5\n",
        "        self.assertEqual(result, expected)\n",
        "\n",
        "   \n",
        "    def test_mul(self):\n",
        "        '''Test case function for multiplication'''\n",
        "        self.calc = Calculator()\n",
        "        result = self.calc.mul(3, 7)\n",
        "        expected = 21\n",
        "        self.assertEqual(result, expected)\n",
        "\n",
        "    def test_div(self):\n",
        "        '''Test case function for division'''\n",
        "        self.calc = Calculator()\n",
        "        result = self.calc.div(10, 2)\n",
        "        expected = 5\n",
        "        self.assertEqual(result, expected)"
      ],
      "metadata": {
        "id": "BmO1ExRBzWRl"
      },
      "execution_count": 2,
      "outputs": []
    },
    {
      "cell_type": "code",
      "source": [
        "unittest.main(argv=[''], verbosity=2, exit=False)"
      ],
      "metadata": {
        "colab": {
          "base_uri": "https://localhost:8080/"
        },
        "id": "n0oF9ToCzolJ",
        "outputId": "bb204ad8-abf7-44aa-e7d5-470b8e4837ed"
      },
      "execution_count": 3,
      "outputs": [
        {
          "output_type": "stream",
          "name": "stderr",
          "text": [
            "test_add (__main__.TestCalculator)\n",
            "Test case function for addition ... ERROR\n",
            "test_div (__main__.TestCalculator)\n",
            "Test case function for division ... ERROR\n",
            "test_mul (__main__.TestCalculator)\n",
            "Test case function for multiplication ... ERROR\n",
            "test_sub (__main__.TestCalculator)\n",
            "Test case function for subtraction ... ERROR\n",
            "\n",
            "======================================================================\n",
            "ERROR: test_add (__main__.TestCalculator)\n",
            "Test case function for addition\n",
            "----------------------------------------------------------------------\n",
            "Traceback (most recent call last):\n",
            "  File \"<ipython-input-2-81486f442b36>\", line 6, in test_add\n",
            "    self.calc = Calculator()\n",
            "NameError: name 'Calculator' is not defined\n",
            "\n",
            "======================================================================\n",
            "ERROR: test_div (__main__.TestCalculator)\n",
            "Test case function for division\n",
            "----------------------------------------------------------------------\n",
            "Traceback (most recent call last):\n",
            "  File \"<ipython-input-2-81486f442b36>\", line 28, in test_div\n",
            "    self.calc = Calculator()\n",
            "NameError: name 'Calculator' is not defined\n",
            "\n",
            "======================================================================\n",
            "ERROR: test_mul (__main__.TestCalculator)\n",
            "Test case function for multiplication\n",
            "----------------------------------------------------------------------\n",
            "Traceback (most recent call last):\n",
            "  File \"<ipython-input-2-81486f442b36>\", line 21, in test_mul\n",
            "    self.calc = Calculator()\n",
            "NameError: name 'Calculator' is not defined\n",
            "\n",
            "======================================================================\n",
            "ERROR: test_sub (__main__.TestCalculator)\n",
            "Test case function for subtraction\n",
            "----------------------------------------------------------------------\n",
            "Traceback (most recent call last):\n",
            "  File \"<ipython-input-2-81486f442b36>\", line 13, in test_sub\n",
            "    self.calc = Calculator()\n",
            "NameError: name 'Calculator' is not defined\n",
            "\n",
            "----------------------------------------------------------------------\n",
            "Ran 4 tests in 0.012s\n",
            "\n",
            "FAILED (errors=4)\n"
          ]
        },
        {
          "output_type": "execute_result",
          "data": {
            "text/plain": [
              "<unittest.main.TestProgram at 0x7f7a0144bfd0>"
            ]
          },
          "metadata": {},
          "execution_count": 3
        }
      ]
    }
  ]
}